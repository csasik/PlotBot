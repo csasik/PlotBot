{
 "cells": [
  {
   "cell_type": "code",
   "execution_count": 267,
   "metadata": {},
   "outputs": [],
   "source": [
    "%matplotlib notebook"
   ]
  },
  {
   "cell_type": "code",
   "execution_count": 268,
   "metadata": {},
   "outputs": [
    {
     "name": "stderr",
     "output_type": "stream",
     "text": [
      "C:\\Users\\chith\\Anaconda3\\envs\\PythonData\\lib\\site-packages\\ipykernel\\__main__.py:11: UserWarning: \n",
      "This call to matplotlib.use() has no effect because the backend has already\n",
      "been chosen; matplotlib.use() must be called *before* pylab, matplotlib.pyplot,\n",
      "or matplotlib.backends is imported for the first time.\n",
      "\n",
      "The backend was *originally* set to 'nbAgg' by the following code:\n",
      "  File \"C:\\Users\\chith\\Anaconda3\\envs\\PythonData\\lib\\runpy.py\", line 193, in _run_module_as_main\n",
      "    \"__main__\", mod_spec)\n",
      "  File \"C:\\Users\\chith\\Anaconda3\\envs\\PythonData\\lib\\runpy.py\", line 85, in _run_code\n",
      "    exec(code, run_globals)\n",
      "  File \"C:\\Users\\chith\\Anaconda3\\envs\\PythonData\\lib\\site-packages\\ipykernel\\__main__.py\", line 3, in <module>\n",
      "    app.launch_new_instance()\n",
      "  File \"C:\\Users\\chith\\Anaconda3\\envs\\PythonData\\lib\\site-packages\\traitlets\\config\\application.py\", line 658, in launch_instance\n",
      "    app.start()\n",
      "  File \"C:\\Users\\chith\\Anaconda3\\envs\\PythonData\\lib\\site-packages\\ipykernel\\kernelapp.py\", line 486, in start\n",
      "    self.io_loop.start()\n",
      "  File \"C:\\Users\\chith\\Anaconda3\\envs\\PythonData\\lib\\site-packages\\tornado\\platform\\asyncio.py\", line 127, in start\n",
      "    self.asyncio_loop.run_forever()\n",
      "  File \"C:\\Users\\chith\\Anaconda3\\envs\\PythonData\\lib\\asyncio\\base_events.py\", line 422, in run_forever\n",
      "    self._run_once()\n",
      "  File \"C:\\Users\\chith\\Anaconda3\\envs\\PythonData\\lib\\asyncio\\base_events.py\", line 1432, in _run_once\n",
      "    handle._run()\n",
      "  File \"C:\\Users\\chith\\Anaconda3\\envs\\PythonData\\lib\\asyncio\\events.py\", line 145, in _run\n",
      "    self._callback(*self._args)\n",
      "  File \"C:\\Users\\chith\\Anaconda3\\envs\\PythonData\\lib\\site-packages\\tornado\\platform\\asyncio.py\", line 117, in _handle_events\n",
      "    handler_func(fileobj, events)\n",
      "  File \"C:\\Users\\chith\\Anaconda3\\envs\\PythonData\\lib\\site-packages\\tornado\\stack_context.py\", line 276, in null_wrapper\n",
      "    return fn(*args, **kwargs)\n",
      "  File \"C:\\Users\\chith\\Anaconda3\\envs\\PythonData\\lib\\site-packages\\zmq\\eventloop\\zmqstream.py\", line 450, in _handle_events\n",
      "    self._handle_recv()\n",
      "  File \"C:\\Users\\chith\\Anaconda3\\envs\\PythonData\\lib\\site-packages\\zmq\\eventloop\\zmqstream.py\", line 480, in _handle_recv\n",
      "    self._run_callback(callback, msg)\n",
      "  File \"C:\\Users\\chith\\Anaconda3\\envs\\PythonData\\lib\\site-packages\\zmq\\eventloop\\zmqstream.py\", line 432, in _run_callback\n",
      "    callback(*args, **kwargs)\n",
      "  File \"C:\\Users\\chith\\Anaconda3\\envs\\PythonData\\lib\\site-packages\\tornado\\stack_context.py\", line 276, in null_wrapper\n",
      "    return fn(*args, **kwargs)\n",
      "  File \"C:\\Users\\chith\\Anaconda3\\envs\\PythonData\\lib\\site-packages\\ipykernel\\kernelbase.py\", line 283, in dispatcher\n",
      "    return self.dispatch_shell(stream, msg)\n",
      "  File \"C:\\Users\\chith\\Anaconda3\\envs\\PythonData\\lib\\site-packages\\ipykernel\\kernelbase.py\", line 233, in dispatch_shell\n",
      "    handler(stream, idents, msg)\n",
      "  File \"C:\\Users\\chith\\Anaconda3\\envs\\PythonData\\lib\\site-packages\\ipykernel\\kernelbase.py\", line 399, in execute_request\n",
      "    user_expressions, allow_stdin)\n",
      "  File \"C:\\Users\\chith\\Anaconda3\\envs\\PythonData\\lib\\site-packages\\ipykernel\\ipkernel.py\", line 208, in do_execute\n",
      "    res = shell.run_cell(code, store_history=store_history, silent=silent)\n",
      "  File \"C:\\Users\\chith\\Anaconda3\\envs\\PythonData\\lib\\site-packages\\ipykernel\\zmqshell.py\", line 537, in run_cell\n",
      "    return super(ZMQInteractiveShell, self).run_cell(*args, **kwargs)\n",
      "  File \"C:\\Users\\chith\\Anaconda3\\envs\\PythonData\\lib\\site-packages\\IPython\\core\\interactiveshell.py\", line 2662, in run_cell\n",
      "    raw_cell, store_history, silent, shell_futures)\n",
      "  File \"C:\\Users\\chith\\Anaconda3\\envs\\PythonData\\lib\\site-packages\\IPython\\core\\interactiveshell.py\", line 2785, in _run_cell\n",
      "    interactivity=interactivity, compiler=compiler, result=result)\n",
      "  File \"C:\\Users\\chith\\Anaconda3\\envs\\PythonData\\lib\\site-packages\\IPython\\core\\interactiveshell.py\", line 2909, in run_ast_nodes\n",
      "    if self.run_code(code, result):\n",
      "  File \"C:\\Users\\chith\\Anaconda3\\envs\\PythonData\\lib\\site-packages\\IPython\\core\\interactiveshell.py\", line 2963, in run_code\n",
      "    exec(code_obj, self.user_global_ns, self.user_ns)\n",
      "  File \"<ipython-input-267-7a6b33cdc204>\", line 1, in <module>\n",
      "    get_ipython().run_line_magic('matplotlib', 'notebook')\n",
      "  File \"C:\\Users\\chith\\Anaconda3\\envs\\PythonData\\lib\\site-packages\\IPython\\core\\interactiveshell.py\", line 2131, in run_line_magic\n",
      "    result = fn(*args,**kwargs)\n",
      "  File \"<decorator-gen-108>\", line 2, in matplotlib\n",
      "  File \"C:\\Users\\chith\\Anaconda3\\envs\\PythonData\\lib\\site-packages\\IPython\\core\\magic.py\", line 187, in <lambda>\n",
      "    call = lambda f, *a, **k: f(*a, **k)\n",
      "  File \"C:\\Users\\chith\\Anaconda3\\envs\\PythonData\\lib\\site-packages\\IPython\\core\\magics\\pylab.py\", line 99, in matplotlib\n",
      "    gui, backend = self.shell.enable_matplotlib(args.gui)\n",
      "  File \"C:\\Users\\chith\\Anaconda3\\envs\\PythonData\\lib\\site-packages\\IPython\\core\\interactiveshell.py\", line 3051, in enable_matplotlib\n",
      "    pt.activate_matplotlib(backend)\n",
      "  File \"C:\\Users\\chith\\Anaconda3\\envs\\PythonData\\lib\\site-packages\\IPython\\core\\pylabtools.py\", line 311, in activate_matplotlib\n",
      "    matplotlib.pyplot.switch_backend(backend)\n",
      "  File \"C:\\Users\\chith\\Anaconda3\\envs\\PythonData\\lib\\site-packages\\matplotlib\\pyplot.py\", line 231, in switch_backend\n",
      "    matplotlib.use(newbackend, warn=False, force=True)\n",
      "  File \"C:\\Users\\chith\\Anaconda3\\envs\\PythonData\\lib\\site-packages\\matplotlib\\__init__.py\", line 1422, in use\n",
      "    reload(sys.modules['matplotlib.backends'])\n",
      "  File \"C:\\Users\\chith\\Anaconda3\\envs\\PythonData\\lib\\importlib\\__init__.py\", line 166, in reload\n",
      "    _bootstrap._exec(spec, module)\n",
      "  File \"C:\\Users\\chith\\Anaconda3\\envs\\PythonData\\lib\\site-packages\\matplotlib\\backends\\__init__.py\", line 16, in <module>\n",
      "    line for line in traceback.format_stack()\n",
      "\n",
      "\n"
     ]
    }
   ],
   "source": [
    "import os\n",
    "import pandas as pd\n",
    "import numpy as np\n",
    "import tweepy\n",
    "import time\n",
    "import spacy\n",
    "import en_core_web_sm\n",
    "import matplotlib.pyplot as plt\n",
    "from datetime import datetime\n",
    "\n",
    "matplotlib.use(\"Agg\")"
   ]
  },
  {
   "cell_type": "code",
   "execution_count": 269,
   "metadata": {},
   "outputs": [],
   "source": [
    "from config import consumer_key, consumer_secret, access_token, access_token_secret"
   ]
  },
  {
   "cell_type": "code",
   "execution_count": 270,
   "metadata": {},
   "outputs": [],
   "source": [
    "from vaderSentiment.vaderSentiment import SentimentIntensityAnalyzer\n",
    "analyzer = SentimentIntensityAnalyzer()"
   ]
  },
  {
   "cell_type": "code",
   "execution_count": 271,
   "metadata": {},
   "outputs": [],
   "source": [
    "# Get config variable from environment variables\n",
    "# consumer_key = os.environ.get(\"consumer_key\")\n",
    "# consumer_secret = os.environ.get(\"consumer_secret\")\n",
    "# access_token = os.environ.get(\"access_token\")\n",
    "# access_token_secret = os.environ.get(\"access_token_secret\")\n",
    "\n",
    "# Setup Tweepy API Authentication\n",
    "auth = tweepy.OAuthHandler(consumer_key, consumer_secret)\n",
    "auth.set_access_token(access_token, access_token_secret)\n",
    "api = tweepy.API(auth, parser=tweepy.parsers.JSONParser())\n"
   ]
  },
  {
   "cell_type": "code",
   "execution_count": 329,
   "metadata": {},
   "outputs": [],
   "source": [
    "# Load model\n",
    "#nlp = en_core_web_sm.load()\n",
    "nlp = spacy.load('en_core_web_md')"
   ]
  },
  {
   "cell_type": "code",
   "execution_count": 346,
   "metadata": {},
   "outputs": [],
   "source": [
    "# Create dictionary to hold text and label entities\n",
    "tweet_dict = {\"text\": [], \n",
    "              \"label\": []}\n",
    "target_account = \"chithrak\"\n",
    "mention = []"
   ]
  },
  {
   "cell_type": "code",
   "execution_count": 339,
   "metadata": {},
   "outputs": [],
   "source": [
    "\n",
    "\n",
    "def get_tweets(mention):\n",
    "\n",
    "    try:\n",
    "        \n",
    "        public_tweets = api.home_timeline(count=1, result_type=\"recent\")\n",
    "        # Print Tweets\n",
    "        for tweet in public_tweets:\n",
    "\n",
    "            print(tweet[\"text\"])\n",
    "\n",
    "            # Use nlp on each tweet\n",
    "            doc = nlp(tweet[\"text\"])\n",
    "\n",
    "            # Check if nlp returns no entities\n",
    "            if not doc.ents:\n",
    "                print(\"No entities to visualize\")\n",
    "                print(\"----------------------------\")\n",
    "            else:\n",
    "                # Print the entities for each doc\n",
    "                for ent in doc.ents:\n",
    "                    mention.append(ent.text)\n",
    "                    \n",
    "                    # Store entities in dictionary\n",
    "#                     tweet_dict[\"text\"].append(ent.text)\n",
    "#                     tweet_dict[\"label\"].append(ent.label_)\n",
    " \n",
    "\n",
    "                \n",
    "        return mention\n",
    "\n",
    "    except Exception:\n",
    "        raise\n"
   ]
  },
  {
   "cell_type": "code",
   "execution_count": 347,
   "metadata": {},
   "outputs": [
    {
     "name": "stdout",
     "output_type": "stream",
     "text": [
      "\"Analyze: @amazon\"\n",
      "No entities to visualize\n",
      "----------------------------\n"
     ]
    },
    {
     "data": {
      "text/plain": [
       "[]"
      ]
     },
     "execution_count": 347,
     "metadata": {},
     "output_type": "execute_result"
    }
   ],
   "source": [
    "\n",
    "# Have the Twitter bot every 5 mins\n",
    "run = True\n",
    "while run:\n",
    "    print(\"Updating Twitter\")\n",
    "\n",
    "    get_tweets(mention)\n",
    "    \n",
    "    compound_list = []\n",
    "    tweets_list = []\n",
    "\n",
    "    for val in mention:\n",
    "        get_vader (val)\n",
    "        plot_chart(val)\n",
    "        \n",
    "        \n",
    "        \n",
    "    # Wait 5mins\n",
    "    time.sleep(300)\n",
    "\n",
    "    "
   ]
  },
  {
   "cell_type": "code",
   "execution_count": 350,
   "metadata": {},
   "outputs": [],
   "source": [
    "def get_vader (user):\n",
    "    oldest_tweet = None\n",
    "    \n",
    "    print(f\"Vader Analysis for {user}\")\n",
    "    user_tweets = api.user_timeline(user, count=500, result_type=\"recent\")\n",
    "\n",
    "    for tweet in user_tweets:\n",
    "        #print(f\"{tweet['text']}\")\n",
    "        results = analyzer.polarity_scores(tweet['text'])\n",
    "        tweets_list.append(tweet['text'])\n",
    "        compound_list.append(results['compound'])\n",
    "        \n",
    "      \n",
    "        "
   ]
  },
  {
   "cell_type": "code",
   "execution_count": 349,
   "metadata": {},
   "outputs": [],
   "source": [
    "def plot_chart (user):\n",
    "    print(f\"Plotting for user {user}\")\n",
    "    x = np.arange(0,len(tweets_list))\n",
    "    y=compound_list\n",
    "\n",
    "    plt.plot(x,\n",
    "             y, marker=\"o\", linewidth=0.5,\n",
    "             alpha=0.8)\n",
    "\n",
    "    # # Incorporate the other graph properties\n",
    "    now = datetime.now()\n",
    "    now = now.strftime(\"%Y-%m-%d %H:%M\")\n",
    "\n",
    "    plt.title(f\"Sentiment Analysis of Tweets {now} for {user}\")\n",
    "    plt.xlim([x.max(),x.min()]) #Bonus\n",
    "    plt.ylabel(\"Tweet Polarity\")\n",
    "    plt.xlabel(\"Tweets Ago\")\n",
    "    plt.savefig(\"fig.png\")\n",
    "    \n",
    "    api.update_with_media(\n",
    "            \"fig.png\", \"Sentiment Analysis of Tweets for {user} on {now}\"\n",
    "        )"
   ]
  },
  {
   "cell_type": "code",
   "execution_count": null,
   "metadata": {},
   "outputs": [],
   "source": []
  }
 ],
 "metadata": {
  "kernelspec": {
   "display_name": "Python [default]",
   "language": "python",
   "name": "python3"
  },
  "language_info": {
   "codemirror_mode": {
    "name": "ipython",
    "version": 3
   },
   "file_extension": ".py",
   "mimetype": "text/x-python",
   "name": "python",
   "nbconvert_exporter": "python",
   "pygments_lexer": "ipython3",
   "version": "3.6.5"
  }
 },
 "nbformat": 4,
 "nbformat_minor": 2
}
